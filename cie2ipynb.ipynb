{
  "nbformat": 4,
  "nbformat_minor": 0,
  "metadata": {
    "colab": {
      "provenance": [],
      "authorship_tag": "ABX9TyPqe+aXakFmLZG1fbgi2IyC",
      "include_colab_link": true
    },
    "kernelspec": {
      "name": "python3",
      "display_name": "Python 3"
    },
    "language_info": {
      "name": "python"
    }
  },
  "cells": [
    {
      "cell_type": "markdown",
      "metadata": {
        "id": "view-in-github",
        "colab_type": "text"
      },
      "source": [
        "<a href=\"https://colab.research.google.com/github/tushar-chilakanti/23cs057/blob/main/cie2ipynb.ipynb\" target=\"_parent\"><img src=\"https://colab.research.google.com/assets/colab-badge.svg\" alt=\"Open In Colab\"/></a>"
      ]
    },
    {
      "cell_type": "code",
      "execution_count": 1,
      "metadata": {
        "colab": {
          "base_uri": "https://localhost:8080/"
        },
        "id": "AodagP-9_IyE",
        "outputId": "7edc7b57-d560-47b2-e1ea-cb2093eb1074"
      },
      "outputs": [
        {
          "output_type": "stream",
          "name": "stdout",
          "text": [
            "     survived  pclass     sex   age  sibsp  parch     fare embarked   class  \\\n",
            "0           0       3    male  22.0      1      0   7.2500        S   Third   \n",
            "1           1       1  female  38.0      1      0  71.2833        C   First   \n",
            "2           1       3  female  26.0      0      0   7.9250        S   Third   \n",
            "3           1       1  female  35.0      1      0  53.1000        S   First   \n",
            "4           0       3    male  35.0      0      0   8.0500        S   Third   \n",
            "..        ...     ...     ...   ...    ...    ...      ...      ...     ...   \n",
            "886         0       2    male  27.0      0      0  13.0000        S  Second   \n",
            "887         1       1  female  19.0      0      0  30.0000        S   First   \n",
            "888         0       3  female   NaN      1      2  23.4500        S   Third   \n",
            "889         1       1    male  26.0      0      0  30.0000        C   First   \n",
            "890         0       3    male  32.0      0      0   7.7500        Q   Third   \n",
            "\n",
            "       who  adult_male deck  embark_town alive  alone  \n",
            "0      man        True  NaN  Southampton    no  False  \n",
            "1    woman       False    C    Cherbourg   yes  False  \n",
            "2    woman       False  NaN  Southampton   yes   True  \n",
            "3    woman       False    C  Southampton   yes  False  \n",
            "4      man        True  NaN  Southampton    no   True  \n",
            "..     ...         ...  ...          ...   ...    ...  \n",
            "886    man        True  NaN  Southampton    no   True  \n",
            "887  woman       False    B  Southampton   yes   True  \n",
            "888  woman       False  NaN  Southampton    no  False  \n",
            "889    man        True    C    Cherbourg   yes   True  \n",
            "890    man        True  NaN   Queenstown    no   True  \n",
            "\n",
            "[891 rows x 15 columns]\n"
          ]
        }
      ],
      "source": [
        "import pandas as pd\n",
        "import seaborn as sns\n",
        "import matplotlib.pyplot as plt\n",
        "df=sns.load_dataset('titanic')\n",
        "print(df)"
      ]
    },
    {
      "cell_type": "code",
      "source": [
        "print(\"the missing values:\\n\",df.isnull())"
      ],
      "metadata": {
        "colab": {
          "base_uri": "https://localhost:8080/"
        },
        "id": "qcjVlg9n_24K",
        "outputId": "e0ee4404-3a0e-4ab2-c42f-5914bf0ba49c"
      },
      "execution_count": 2,
      "outputs": [
        {
          "output_type": "stream",
          "name": "stdout",
          "text": [
            "the missing values:\n",
            "      survived  pclass    sex    age  sibsp  parch   fare  embarked  class  \\\n",
            "0       False   False  False  False  False  False  False     False  False   \n",
            "1       False   False  False  False  False  False  False     False  False   \n",
            "2       False   False  False  False  False  False  False     False  False   \n",
            "3       False   False  False  False  False  False  False     False  False   \n",
            "4       False   False  False  False  False  False  False     False  False   \n",
            "..        ...     ...    ...    ...    ...    ...    ...       ...    ...   \n",
            "886     False   False  False  False  False  False  False     False  False   \n",
            "887     False   False  False  False  False  False  False     False  False   \n",
            "888     False   False  False   True  False  False  False     False  False   \n",
            "889     False   False  False  False  False  False  False     False  False   \n",
            "890     False   False  False  False  False  False  False     False  False   \n",
            "\n",
            "       who  adult_male   deck  embark_town  alive  alone  \n",
            "0    False       False   True        False  False  False  \n",
            "1    False       False  False        False  False  False  \n",
            "2    False       False   True        False  False  False  \n",
            "3    False       False  False        False  False  False  \n",
            "4    False       False   True        False  False  False  \n",
            "..     ...         ...    ...          ...    ...    ...  \n",
            "886  False       False   True        False  False  False  \n",
            "887  False       False  False        False  False  False  \n",
            "888  False       False   True        False  False  False  \n",
            "889  False       False  False        False  False  False  \n",
            "890  False       False   True        False  False  False  \n",
            "\n",
            "[891 rows x 15 columns]\n"
          ]
        }
      ]
    },
    {
      "cell_type": "code",
      "source": [
        "import pandas as pd\n",
        "import seaborn as sns\n",
        "import matplotlib.pyplot as plt\n",
        "df = sns.load_dataset('titanic')\n",
        "survived_missing = df['survived'].isnull().sum()\n",
        "age_missing = df['age'].isnull().sum()\n",
        "print(\"Number of missing values in 'survived' column:\", survived_missing)\n",
        "print(\"Number of missing values in 'age' column:\", age_missing)"
      ],
      "metadata": {
        "colab": {
          "base_uri": "https://localhost:8080/"
        },
        "id": "Uqx22z3RAE3y",
        "outputId": "258807a7-a6c2-4955-810d-05498e80f67a"
      },
      "execution_count": 3,
      "outputs": [
        {
          "output_type": "stream",
          "name": "stdout",
          "text": [
            "Number of missing values in 'survived' column: 0\n",
            "Number of missing values in 'age' column: 177\n"
          ]
        }
      ]
    }
  ]
}